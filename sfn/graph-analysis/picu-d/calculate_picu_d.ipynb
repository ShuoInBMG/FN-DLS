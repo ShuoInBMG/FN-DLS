{
 "cells": [
  {
   "cell_type": "code",
   "execution_count": 1,
   "id": "ad6aabac-ac71-47f9-9a32-16305ebba1e1",
   "metadata": {},
   "outputs": [],
   "source": [
    "import cv2\n",
    "import numpy as np\n",
    "import os\n",
    "from skimage import measure\n",
    "import matplotlib.pyplot as plt\n",
    "%matplotlib inline"
   ]
  },
  {
   "cell_type": "code",
   "execution_count": null,
   "id": "d0084b3c-c5e1-4024-841f-712d0074f099",
   "metadata": {},
   "outputs": [],
   "source": [
    "def process_image(image_path, scale):\n",
    "    image = cv2.imread(image_path, cv2.IMREAD_GRAYSCALE)\n",
    "    if image is None:\n",
    "        return [], \"文件读取失败\"\n",
    "    \n",
    "    _, binary_image = cv2.threshold(image, 254, 1, cv2.THRESH_BINARY_INV)\n",
    "    binary_image = 1-binary_image\n",
    "    labels = measure.label(binary_image, connectivity=2)\n",
    "    \n",
    "    border_labels = np.unique(np.concatenate((\n",
    "        labels[0, :], labels[-1, :], labels[:, 0], labels[:, -1]\n",
    "    )))\n",
    "    mask = np.isin(labels, border_labels, invert=True)\n",
    "    filtered_labels = labels * mask\n",
    "    \n",
    "    regions = measure.regionprops(filtered_labels)\n",
    "    areas = [region.area for region in regions if region.area >= 5]\n",
    "    \n",
    "    if not areas:\n",
    "        return [], \"无符合要求的连通区域\"\n",
    "\n",
    "    short_side_length = min(image.shape)\n",
    "    nanometer_per_pixel = scale / short_side_length\n",
    "    areas_nm2 = [area * (nanometer_per_pixel ** 2) for area in areas]\n",
    "    \n",
    "    return areas_nm2, None\n",
    "\n",
    "def process_folder(folder_path, scale):\n",
    "    result = {}\n",
    "    for filename in os.listdir(folder_path):\n",
    "        if filename.endswith('.png'):\n",
    "            image_path = os.path.join(folder_path, filename)\n",
    "            areas_nm2, error = process_image(image_path, scale)\n",
    "            if error:\n",
    "                print(f\"{filename}: {error}\")\n",
    "            else:\n",
    "                result[filename] = areas_nm2\n",
    "                txt_path = os.path.join(folder_path, f\"{filename}.txt\")\n",
    "                with open(txt_path, 'w') as f:\n",
    "                    for area in areas_nm2:\n",
    "                        f.write(f\"{area:.2f}\\n\")\n",
    "    return result\n",
    "\n",
    "def print_statistics(result):\n",
    "    for filename, areas in result.items():\n",
    "        if areas:\n",
    "            avg_area = np.mean(areas)\n",
    "            std_dev_area = np.std(areas)\n",
    "            print(f\"{filename}: 平均面积 = {avg_area:.2f} nm², 标准差 = {std_dev_area:.2f} nm²\")\n",
    "        else:\n",
    "            print(f\"{filename}: 无符合要求的连通区域\")"
   ]
  },
  {
   "cell_type": "code",
   "execution_count": 8,
   "id": "cc827f88-f377-44f9-aab2-ec185548d6a1",
   "metadata": {},
   "outputs": [
    {
     "name": "stdout",
     "output_type": "stream",
     "text": [
      "AFM 文件夹结果:\n",
      "0-init.png: 平均面积 = 1792.68 nm², 标准差 = 2178.89 nm²\n",
      "1-eq-high.png: 平均面积 = 2543.05 nm², 标准差 = 4911.68 nm²\n",
      "10-sh-low-2.png: 平均面积 = 1338.65 nm², 标准差 = 1865.52 nm²\n",
      "2-eq-low.png: 平均面积 = 1789.66 nm², 标准差 = 2389.60 nm²\n",
      "3-st-high-1.png: 平均面积 = 2016.25 nm², 标准差 = 3895.76 nm²\n",
      "4-st-high-2.png: 平均面积 = 1233.70 nm², 标准差 = 1732.94 nm²\n",
      "5-st-low-1.png: 平均面积 = 1458.07 nm², 标准差 = 2313.53 nm²\n",
      "6-st-low-2.png: 平均面积 = 1736.27 nm², 标准差 = 2466.08 nm²\n",
      "7-sh-high-1.png: 平均面积 = 1787.28 nm², 标准差 = 3433.58 nm²\n",
      "8-sh-high-2.png: 平均面积 = 1828.39 nm², 标准差 = 2986.54 nm²\n",
      "9-sh-low-1.png: 平均面积 = 1177.38 nm², 标准差 = 1829.51 nm²\n",
      "Random 文件夹结果:\n",
      "0-eq-high.png: 平均面积 = 1708.09 nm², 标准差 = 5211.42 nm²\n",
      "1-sh-high-1.png: 平均面积 = 1509.63 nm², 标准差 = 4029.17 nm²\n",
      "2-sh-high-2.png: 平均面积 = 882.32 nm², 标准差 = 2276.49 nm²\n",
      "3-eq-low.png: 平均面积 = 736.75 nm², 标准差 = 2339.90 nm²\n",
      "4-sh-low-1.png: 平均面积 = 720.86 nm², 标准差 = 2134.71 nm²\n",
      "5-sh-low-2.png: 平均面积 = 651.10 nm², 标准差 = 1878.41 nm²\n",
      "6-st-high-1.png: 平均面积 = 3150.99 nm², 标准差 = 11374.34 nm²\n",
      "7-st-high-2.png: 平均面积 = 3348.77 nm², 标准差 = 5898.23 nm²\n",
      "8-st-low-1.png: 平均面积 = 1542.19 nm², 标准差 = 4343.26 nm²\n",
      "9-st-low-2.png: 平均面积 = 790.04 nm², 标准差 = 1664.73 nm²\n"
     ]
    }
   ],
   "source": [
    "afm_result = process_folder('calculate_picu_d/AFM', scale = 600)\n",
    "random_result = process_folder('calculate_picu_d/random', scale = 1000)\n",
    "\n",
    "print(\"AFM 文件夹结果:\")\n",
    "print_statistics(afm_result)\n",
    "\n",
    "print(\"Random 文件夹结果:\")\n",
    "print_statistics(random_result)"
   ]
  },
  {
   "cell_type": "code",
   "execution_count": 4,
   "id": "846a41ac-1429-42ef-ae94-6131cb080a02",
   "metadata": {},
   "outputs": [],
   "source": [
    "import os\n",
    "import cv2\n",
    "import numpy as np\n",
    "from skimage.morphology import skeletonize\n",
    "from skimage import img_as_bool\n",
    "from scipy.ndimage import distance_transform_edt"
   ]
  },
  {
   "cell_type": "code",
   "execution_count": null,
   "id": "c59fb2ae-eacf-471c-a142-6859a9234a69",
   "metadata": {},
   "outputs": [],
   "source": [
    "def calculate_num_of_bundle(image):\n",
    "    binary_image = cv2.threshold(image, 254, 255, cv2.THRESH_BINARY_INV)[1] // 255\n",
    "    \n",
    "    dist_transform = distance_transform_edt(binary_image)\n",
    "    \n",
    "    skeleton = skeletonize(binary_image)\n",
    "    \n",
    "    skeleton_distances = dist_transform * skeleton\n",
    "    \n",
    "    sum_distances = skeleton_distances.sum()\n",
    "    \n",
    "    num_skeleton_pixels = skeleton.sum()\n",
    "    \n",
    "    num_of_bundle = sum_distances / num_skeleton_pixels if num_skeleton_pixels > 0 else 0\n",
    "    \n",
    "    return num_of_bundle\n",
    "\n",
    "def resize_image(image, target_size):\n",
    "    h, w = image.shape\n",
    "    scale = target_size / min(h, w)\n",
    "    new_h, new_w = int(h * scale), int(w * scale)\n",
    "    resized_image = cv2.resize(image, (new_w, new_h), interpolation=cv2.INTER_AREA)\n",
    "    return resized_image\n",
    "\n",
    "def process_images(folder_path):\n",
    "    for subfolder in ['AFM', 'random']:\n",
    "        path = os.path.join(folder_path, subfolder)\n",
    "        for file_name in os.listdir(path):\n",
    "            if file_name.endswith('.png'):\n",
    "                file_path = os.path.join(path, file_name)\n",
    "                image = cv2.imread(file_path, cv2.IMREAD_GRAYSCALE)\n",
    "                if subfolder == 'AFM': \n",
    "                    image = resize_image(image, 300) \n",
    "                elif subfolder == 'random': \n",
    "                    image = resize_image(image, 500)\n",
    "                num_of_bundle = calculate_num_of_bundle(image)\n",
    "\n",
    "                num_of_bundle = num_of_bundle / 1.715\n",
    "                num_of_bundle = num_of_bundle * 2 - 1\n",
    "                print(f\"Image: {file_name}, num_of_bundle: {(num_of_bundle):.2f}\")"
   ]
  },
  {
   "cell_type": "code",
   "execution_count": 6,
   "id": "90f3e90b-6d4c-4695-b32c-1ddfe7f54482",
   "metadata": {},
   "outputs": [
    {
     "name": "stdout",
     "output_type": "stream",
     "text": [
      "Image: 0-init.png, num_of_bundle: 1.51\n",
      "Image: 1-eq-high.png, num_of_bundle: 1.58\n",
      "Image: 10-sh-low-2.png, num_of_bundle: 1.70\n",
      "Image: 2-eq-low.png, num_of_bundle: 1.63\n",
      "Image: 3-st-high-1.png, num_of_bundle: 1.75\n",
      "Image: 4-st-high-2.png, num_of_bundle: 1.76\n",
      "Image: 5-st-low-1.png, num_of_bundle: 1.73\n",
      "Image: 6-st-low-2.png, num_of_bundle: 1.68\n",
      "Image: 7-sh-high-1.png, num_of_bundle: 1.81\n",
      "Image: 8-sh-high-2.png, num_of_bundle: 1.78\n",
      "Image: 9-sh-low-1.png, num_of_bundle: 1.72\n",
      "Image: 0-eq-high.png, num_of_bundle: 1.74\n",
      "Image: 1-sh-high-1.png, num_of_bundle: 1.99\n",
      "Image: 2-sh-high-2.png, num_of_bundle: 2.53\n",
      "Image: 3-eq-low.png, num_of_bundle: 1.70\n",
      "Image: 4-sh-low-1.png, num_of_bundle: 1.70\n",
      "Image: 5-sh-low-2.png, num_of_bundle: 1.71\n",
      "Image: 6-st-high-1.png, num_of_bundle: 2.64\n",
      "Image: 7-st-high-2.png, num_of_bundle: 14.57\n"
     ]
    }
   ],
   "source": [
    "folder_path = 'calculate_picu_d'\n",
    "process_images(folder_path)"
   ]
  }
 ],
 "metadata": {
  "kernelspec": {
   "display_name": "Python 3 (ipykernel)",
   "language": "python",
   "name": "python3"
  },
  "language_info": {
   "codemirror_mode": {
    "name": "ipython",
    "version": 3
   },
   "file_extension": ".py",
   "mimetype": "text/x-python",
   "name": "python",
   "nbconvert_exporter": "python",
   "pygments_lexer": "ipython3",
   "version": "3.10.11"
  }
 },
 "nbformat": 4,
 "nbformat_minor": 5
}
